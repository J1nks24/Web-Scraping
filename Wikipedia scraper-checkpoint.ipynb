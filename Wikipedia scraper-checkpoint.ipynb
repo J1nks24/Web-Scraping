{
 "cells": [
  {
   "cell_type": "code",
   "execution_count": 1,
   "id": "07f66481",
   "metadata": {},
   "outputs": [],
   "source": [
    "import requests \n",
    "from bs4 import BeautifulSoup"
   ]
  },
  {
   "cell_type": "code",
   "execution_count": 2,
   "id": "cfe4f538",
   "metadata": {},
   "outputs": [
    {
     "name": "stdout",
     "output_type": "stream",
     "text": [
      "Enter the Topic name:Umesh Yadav\n"
     ]
    }
   ],
   "source": [
    "topic=str(input(\"Enter the Topic name:\").replace(' ','+'))\n",
    "link='https://www.google.com/search?q='+topic+'wikipedia'\n",
    "res=requests.get(link)\n",
    "soup=BeautifulSoup(res.text,'html.parser')"
   ]
  },
  {
   "cell_type": "code",
   "execution_count": 3,
   "id": "3db5e0ea",
   "metadata": {},
   "outputs": [
    {
     "name": "stdout",
     "output_type": "stream",
     "text": [
      "https://en.wikipedia.org/wiki/Umesh_Yadav\n"
     ]
    }
   ],
   "source": [
    "for sp in soup.find_all('div'):\n",
    "    try:\n",
    "        a=sp.find('a').get('href')\n",
    "        if ('en.wikipedia.org' in a):\n",
    "            break\n",
    "    except:\n",
    "        pass\n",
    "link1=a[7:].split('&')[0]      \n",
    "print(link1)"
   ]
  },
  {
   "cell_type": "code",
   "execution_count": 4,
   "id": "c3deaf4b",
   "metadata": {},
   "outputs": [],
   "source": [
    "res=requests.get(link1)\n",
    "soup1=BeautifulSoup(res.text,'html.parser')\n"
   ]
  },
  {
   "cell_type": "code",
   "execution_count": 5,
   "id": "d5032e04",
   "metadata": {},
   "outputs": [],
   "source": [
    "paragraphs = ''\n",
    "\n",
    "for p in soup1.find_all('p'):\n",
    "\n",
    "    paragraphs += p.text\n",
    "    paragraphs += '\\n'\n",
    "paragraphs = paragraphs.strip()\n",
    "\n",
    "for i in range(500):\n",
    "    paragraphs=paragraphs.replace('['+str(i)+']',' ')"
   ]
  },
  {
   "cell_type": "code",
   "execution_count": 10,
   "id": "ab99f929",
   "metadata": {},
   "outputs": [],
   "source": [
    "fp=open(topic+'.txt','w')\n",
    "fp.write(paragraphs)\n",
    "fp.close()"
   ]
  },
  {
   "cell_type": "code",
   "execution_count": null,
   "id": "cdd3adca",
   "metadata": {},
   "outputs": [],
   "source": []
  }
 ],
 "metadata": {
  "kernelspec": {
   "display_name": "Python 3 (ipykernel)",
   "language": "python",
   "name": "python3"
  },
  "language_info": {
   "codemirror_mode": {
    "name": "ipython",
    "version": 3
   },
   "file_extension": ".py",
   "mimetype": "text/x-python",
   "name": "python",
   "nbconvert_exporter": "python",
   "pygments_lexer": "ipython3",
   "version": "3.11.5"
  },
  "varInspector": {
   "cols": {
    "lenName": 16,
    "lenType": 16,
    "lenVar": 40
   },
   "kernels_config": {
    "python": {
     "delete_cmd_postfix": "",
     "delete_cmd_prefix": "del ",
     "library": "var_list.py",
     "varRefreshCmd": "print(var_dic_list())"
    },
    "r": {
     "delete_cmd_postfix": ") ",
     "delete_cmd_prefix": "rm(",
     "library": "var_list.r",
     "varRefreshCmd": "cat(var_dic_list()) "
    }
   },
   "types_to_exclude": [
    "module",
    "function",
    "builtin_function_or_method",
    "instance",
    "_Feature"
   ],
   "window_display": false
  }
 },
 "nbformat": 4,
 "nbformat_minor": 5
}
