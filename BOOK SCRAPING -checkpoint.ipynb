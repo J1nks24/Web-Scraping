{
 "cells": [
  {
   "cell_type": "code",
   "execution_count": 52,
   "id": "6aea7db3",
   "metadata": {},
   "outputs": [],
   "source": [
    "import requests\n",
    "import pandas as pd \n",
    "from bs4 import BeautifulSoup\n",
    "from tqdm import tqdm\n",
    "pd.set_option('display.max_colwidth', None)"
   ]
  },
  {
   "cell_type": "code",
   "execution_count": 53,
   "id": "ae2eb239",
   "metadata": {},
   "outputs": [
    {
     "name": "stderr",
     "output_type": "stream",
     "text": [
      "100%|██████████████████████████████████████████████████████████████████████████████████| 50/50 [01:01<00:00,  1.22s/it]\n"
     ]
    }
   ],
   "source": [
    " data=[]\n",
    "for i in tqdm(range(1,51)):##https://books.toscrape.com/catalogue/page-3.html\n",
    "    link='https://books.toscrape.com/catalogue/page-'+str(i)+'.html'\n",
    "    res=requests.get(link)\n",
    "    soup=BeautifulSoup(res.text,'html.parser')\n",
    "   \n",
    "    for sp in soup.find_all('li',class_='col-xs-6 col-sm-4 col-md-3 col-lg-3'):\n",
    "        Product_link='https://books.toscrape.com/catalogue/' +sp.find_all('a')[-1].get('href')\n",
    "        name=sp.find_all('a')[1].get('title')\n",
    "        price=sp.find('p',class_='price_color').text\n",
    "        img_link=str('https://books.toscrape.com/'+sp.find('img').get('src'))\n",
    "        rating=sp.find('p').get('class')[1]\n",
    "        available=sp.find('p',class_='instock availability').text.strip()\n",
    "        data.append([name,price,rating,available,Product_link,img_link])"
   ]
  },
  {
   "cell_type": "code",
   "execution_count": 54,
   "id": "5aa65239",
   "metadata": {
    "scrolled": true
   },
   "outputs": [
    {
     "data": {
      "text/html": [
       "<div>\n",
       "<style scoped>\n",
       "    .dataframe tbody tr th:only-of-type {\n",
       "        vertical-align: middle;\n",
       "    }\n",
       "\n",
       "    .dataframe tbody tr th {\n",
       "        vertical-align: top;\n",
       "    }\n",
       "\n",
       "    .dataframe thead th {\n",
       "        text-align: right;\n",
       "    }\n",
       "</style>\n",
       "<table border=\"1\" class=\"dataframe\">\n",
       "  <thead>\n",
       "    <tr style=\"text-align: right;\">\n",
       "      <th></th>\n",
       "      <th>Name</th>\n",
       "      <th>Price</th>\n",
       "      <th>Rating</th>\n",
       "      <th>Available?</th>\n",
       "      <th>Product_link</th>\n",
       "      <th>Image link</th>\n",
       "    </tr>\n",
       "  </thead>\n",
       "  <tbody>\n",
       "    <tr>\n",
       "      <th>0</th>\n",
       "      <td>A Light in the Attic</td>\n",
       "      <td>Â£51.77</td>\n",
       "      <td>Three</td>\n",
       "      <td>In stock</td>\n",
       "      <td>https://books.toscrape.com/catalogue/a-light-in-the-attic_1000/index.html</td>\n",
       "      <td>https://books.toscrape.com/../media/cache/2c/da/2cdad67c44b002e7ead0cc35693c0e8b.jpg</td>\n",
       "    </tr>\n",
       "    <tr>\n",
       "      <th>1</th>\n",
       "      <td>Tipping the Velvet</td>\n",
       "      <td>Â£53.74</td>\n",
       "      <td>One</td>\n",
       "      <td>In stock</td>\n",
       "      <td>https://books.toscrape.com/catalogue/tipping-the-velvet_999/index.html</td>\n",
       "      <td>https://books.toscrape.com/../media/cache/26/0c/260c6ae16bce31c8f8c95daddd9f4a1c.jpg</td>\n",
       "    </tr>\n",
       "    <tr>\n",
       "      <th>2</th>\n",
       "      <td>Soumission</td>\n",
       "      <td>Â£50.10</td>\n",
       "      <td>One</td>\n",
       "      <td>In stock</td>\n",
       "      <td>https://books.toscrape.com/catalogue/soumission_998/index.html</td>\n",
       "      <td>https://books.toscrape.com/../media/cache/3e/ef/3eef99c9d9adef34639f510662022830.jpg</td>\n",
       "    </tr>\n",
       "    <tr>\n",
       "      <th>3</th>\n",
       "      <td>Sharp Objects</td>\n",
       "      <td>Â£47.82</td>\n",
       "      <td>Four</td>\n",
       "      <td>In stock</td>\n",
       "      <td>https://books.toscrape.com/catalogue/sharp-objects_997/index.html</td>\n",
       "      <td>https://books.toscrape.com/../media/cache/32/51/3251cf3a3412f53f339e42cac2134093.jpg</td>\n",
       "    </tr>\n",
       "    <tr>\n",
       "      <th>4</th>\n",
       "      <td>Sapiens: A Brief History of Humankind</td>\n",
       "      <td>Â£54.23</td>\n",
       "      <td>Five</td>\n",
       "      <td>In stock</td>\n",
       "      <td>https://books.toscrape.com/catalogue/sapiens-a-brief-history-of-humankind_996/index.html</td>\n",
       "      <td>https://books.toscrape.com/../media/cache/be/a5/bea5697f2534a2f86a3ef27b5a8c12a6.jpg</td>\n",
       "    </tr>\n",
       "    <tr>\n",
       "      <th>...</th>\n",
       "      <td>...</td>\n",
       "      <td>...</td>\n",
       "      <td>...</td>\n",
       "      <td>...</td>\n",
       "      <td>...</td>\n",
       "      <td>...</td>\n",
       "    </tr>\n",
       "    <tr>\n",
       "      <th>995</th>\n",
       "      <td>Alice in Wonderland (Alice's Adventures in Wonderland #1)</td>\n",
       "      <td>Â£55.53</td>\n",
       "      <td>One</td>\n",
       "      <td>In stock</td>\n",
       "      <td>https://books.toscrape.com/catalogue/alice-in-wonderland-alices-adventures-in-wonderland-1_5/index.html</td>\n",
       "      <td>https://books.toscrape.com/../media/cache/96/ee/96ee77d71a31b7694dac6855f6affe4e.jpg</td>\n",
       "    </tr>\n",
       "    <tr>\n",
       "      <th>996</th>\n",
       "      <td>Ajin: Demi-Human, Volume 1 (Ajin: Demi-Human #1)</td>\n",
       "      <td>Â£57.06</td>\n",
       "      <td>Four</td>\n",
       "      <td>In stock</td>\n",
       "      <td>https://books.toscrape.com/catalogue/ajin-demi-human-volume-1-ajin-demi-human-1_4/index.html</td>\n",
       "      <td>https://books.toscrape.com/../media/cache/09/7c/097cb5ecc6fb3fbe1690cf0cbdea4ac5.jpg</td>\n",
       "    </tr>\n",
       "    <tr>\n",
       "      <th>997</th>\n",
       "      <td>A Spy's Devotion (The Regency Spies of London #1)</td>\n",
       "      <td>Â£16.97</td>\n",
       "      <td>Five</td>\n",
       "      <td>In stock</td>\n",
       "      <td>https://books.toscrape.com/catalogue/a-spys-devotion-the-regency-spies-of-london-1_3/index.html</td>\n",
       "      <td>https://books.toscrape.com/../media/cache/1b/5f/1b5ff86f3c75e51e24c573d3f8bffd8f.jpg</td>\n",
       "    </tr>\n",
       "    <tr>\n",
       "      <th>998</th>\n",
       "      <td>1st to Die (Women's Murder Club #1)</td>\n",
       "      <td>Â£53.98</td>\n",
       "      <td>One</td>\n",
       "      <td>In stock</td>\n",
       "      <td>https://books.toscrape.com/catalogue/1st-to-die-womens-murder-club-1_2/index.html</td>\n",
       "      <td>https://books.toscrape.com/../media/cache/2b/41/2b4161c5b72a4ae386b644682361b34a.jpg</td>\n",
       "    </tr>\n",
       "    <tr>\n",
       "      <th>999</th>\n",
       "      <td>1,000 Places to See Before You Die</td>\n",
       "      <td>Â£26.08</td>\n",
       "      <td>Five</td>\n",
       "      <td>In stock</td>\n",
       "      <td>https://books.toscrape.com/catalogue/1000-places-to-see-before-you-die_1/index.html</td>\n",
       "      <td>https://books.toscrape.com/../media/cache/d7/0f/d70f7edd92705c45a82118c3ff6c299d.jpg</td>\n",
       "    </tr>\n",
       "  </tbody>\n",
       "</table>\n",
       "<p>1000 rows × 6 columns</p>\n",
       "</div>"
      ],
      "text/plain": [
       "                                                          Name    Price  \\\n",
       "0                                         A Light in the Attic  Â£51.77   \n",
       "1                                           Tipping the Velvet  Â£53.74   \n",
       "2                                                   Soumission  Â£50.10   \n",
       "3                                                Sharp Objects  Â£47.82   \n",
       "4                        Sapiens: A Brief History of Humankind  Â£54.23   \n",
       "..                                                         ...      ...   \n",
       "995  Alice in Wonderland (Alice's Adventures in Wonderland #1)  Â£55.53   \n",
       "996           Ajin: Demi-Human, Volume 1 (Ajin: Demi-Human #1)  Â£57.06   \n",
       "997          A Spy's Devotion (The Regency Spies of London #1)  Â£16.97   \n",
       "998                        1st to Die (Women's Murder Club #1)  Â£53.98   \n",
       "999                         1,000 Places to See Before You Die  Â£26.08   \n",
       "\n",
       "    Rating Available?  \\\n",
       "0    Three   In stock   \n",
       "1      One   In stock   \n",
       "2      One   In stock   \n",
       "3     Four   In stock   \n",
       "4     Five   In stock   \n",
       "..     ...        ...   \n",
       "995    One   In stock   \n",
       "996   Four   In stock   \n",
       "997   Five   In stock   \n",
       "998    One   In stock   \n",
       "999   Five   In stock   \n",
       "\n",
       "                                                                                                Product_link  \\\n",
       "0                                  https://books.toscrape.com/catalogue/a-light-in-the-attic_1000/index.html   \n",
       "1                                     https://books.toscrape.com/catalogue/tipping-the-velvet_999/index.html   \n",
       "2                                             https://books.toscrape.com/catalogue/soumission_998/index.html   \n",
       "3                                          https://books.toscrape.com/catalogue/sharp-objects_997/index.html   \n",
       "4                   https://books.toscrape.com/catalogue/sapiens-a-brief-history-of-humankind_996/index.html   \n",
       "..                                                                                                       ...   \n",
       "995  https://books.toscrape.com/catalogue/alice-in-wonderland-alices-adventures-in-wonderland-1_5/index.html   \n",
       "996             https://books.toscrape.com/catalogue/ajin-demi-human-volume-1-ajin-demi-human-1_4/index.html   \n",
       "997          https://books.toscrape.com/catalogue/a-spys-devotion-the-regency-spies-of-london-1_3/index.html   \n",
       "998                        https://books.toscrape.com/catalogue/1st-to-die-womens-murder-club-1_2/index.html   \n",
       "999                      https://books.toscrape.com/catalogue/1000-places-to-see-before-you-die_1/index.html   \n",
       "\n",
       "                                                                               Image link  \n",
       "0    https://books.toscrape.com/../media/cache/2c/da/2cdad67c44b002e7ead0cc35693c0e8b.jpg  \n",
       "1    https://books.toscrape.com/../media/cache/26/0c/260c6ae16bce31c8f8c95daddd9f4a1c.jpg  \n",
       "2    https://books.toscrape.com/../media/cache/3e/ef/3eef99c9d9adef34639f510662022830.jpg  \n",
       "3    https://books.toscrape.com/../media/cache/32/51/3251cf3a3412f53f339e42cac2134093.jpg  \n",
       "4    https://books.toscrape.com/../media/cache/be/a5/bea5697f2534a2f86a3ef27b5a8c12a6.jpg  \n",
       "..                                                                                    ...  \n",
       "995  https://books.toscrape.com/../media/cache/96/ee/96ee77d71a31b7694dac6855f6affe4e.jpg  \n",
       "996  https://books.toscrape.com/../media/cache/09/7c/097cb5ecc6fb3fbe1690cf0cbdea4ac5.jpg  \n",
       "997  https://books.toscrape.com/../media/cache/1b/5f/1b5ff86f3c75e51e24c573d3f8bffd8f.jpg  \n",
       "998  https://books.toscrape.com/../media/cache/2b/41/2b4161c5b72a4ae386b644682361b34a.jpg  \n",
       "999  https://books.toscrape.com/../media/cache/d7/0f/d70f7edd92705c45a82118c3ff6c299d.jpg  \n",
       "\n",
       "[1000 rows x 6 columns]"
      ]
     },
     "execution_count": 54,
     "metadata": {},
     "output_type": "execute_result"
    }
   ],
   "source": [
    "df=pd.DataFrame(data,columns=['Name','Price','Rating','Available?','Product_link','Image link'])\n",
    "df"
   ]
  },
  {
   "cell_type": "code",
   "execution_count": 58,
   "id": "f8df38d7",
   "metadata": {},
   "outputs": [],
   "source": [
    "df.to_csv(\"BOOK.csv\",index=False)"
   ]
  },
  {
   "cell_type": "code",
   "execution_count": 57,
   "id": "c708c805",
   "metadata": {},
   "outputs": [
    {
     "data": {
      "text/plain": [
       "0                                    https://books.toscrape.com/catalogue/a-light-in-the-attic_1000/index.html\n",
       "1                                       https://books.toscrape.com/catalogue/tipping-the-velvet_999/index.html\n",
       "2                                               https://books.toscrape.com/catalogue/soumission_998/index.html\n",
       "3                                            https://books.toscrape.com/catalogue/sharp-objects_997/index.html\n",
       "4                     https://books.toscrape.com/catalogue/sapiens-a-brief-history-of-humankind_996/index.html\n",
       "                                                        ...                                                   \n",
       "995    https://books.toscrape.com/catalogue/alice-in-wonderland-alices-adventures-in-wonderland-1_5/index.html\n",
       "996               https://books.toscrape.com/catalogue/ajin-demi-human-volume-1-ajin-demi-human-1_4/index.html\n",
       "997            https://books.toscrape.com/catalogue/a-spys-devotion-the-regency-spies-of-london-1_3/index.html\n",
       "998                          https://books.toscrape.com/catalogue/1st-to-die-womens-murder-club-1_2/index.html\n",
       "999                        https://books.toscrape.com/catalogue/1000-places-to-see-before-you-die_1/index.html\n",
       "Name: Product_link, Length: 1000, dtype: object"
      ]
     },
     "execution_count": 57,
     "metadata": {},
     "output_type": "execute_result"
    }
   ],
   "source": [
    "df['Product_link'] #https://books.toscrape.com/catalogue/a-light-in-the-attic_1000/index.html"
   ]
  },
  {
   "cell_type": "code",
   "execution_count": null,
   "id": "492db0ff",
   "metadata": {},
   "outputs": [],
   "source": []
  }
 ],
 "metadata": {
  "kernelspec": {
   "display_name": "Python 3 (ipykernel)",
   "language": "python",
   "name": "python3"
  },
  "language_info": {
   "codemirror_mode": {
    "name": "ipython",
    "version": 3
   },
   "file_extension": ".py",
   "mimetype": "text/x-python",
   "name": "python",
   "nbconvert_exporter": "python",
   "pygments_lexer": "ipython3",
   "version": "3.11.5"
  },
  "varInspector": {
   "cols": {
    "lenName": 16,
    "lenType": 16,
    "lenVar": 40
   },
   "kernels_config": {
    "python": {
     "delete_cmd_postfix": "",
     "delete_cmd_prefix": "del ",
     "library": "var_list.py",
     "varRefreshCmd": "print(var_dic_list())"
    },
    "r": {
     "delete_cmd_postfix": ") ",
     "delete_cmd_prefix": "rm(",
     "library": "var_list.r",
     "varRefreshCmd": "cat(var_dic_list()) "
    }
   },
   "types_to_exclude": [
    "module",
    "function",
    "builtin_function_or_method",
    "instance",
    "_Feature"
   ],
   "window_display": false
  }
 },
 "nbformat": 4,
 "nbformat_minor": 5
}
